{
 "cells": [
  {
   "cell_type": "code",
   "execution_count": 1,
   "id": "f49d7f7e-041a-488a-b980-bab10a42cc38",
   "metadata": {},
   "outputs": [],
   "source": [
    "import csv\n",
    "import os"
   ]
  },
  {
   "cell_type": "code",
   "execution_count": 7,
   "id": "a31c06b2-5ae9-4b10-869f-f6b7f74abe59",
   "metadata": {
    "tags": []
   },
   "outputs": [
    {
     "name": "stdout",
     "output_type": "stream",
     "text": [
      "File path: C:\\Users\\KayLevin\\Fintech\\homework\\week2\\python-challenge\\PyBank\\Resources\\budget_data.csv\n"
     ]
    }
   ],
   "source": [
    "cwd = os.getcwd()\n",
    "data = \"Resources\"\n",
    "budget_data = os.path.join(cwd, data, 'budget_data.csv') \n",
    "# Check if the file exists before proceeding\n",
    "if os.path.exists(budget_data):\n",
    "    print(f\"File path: {budget_data}\")\n",
    "else:\n",
    "    print(\"The 'budget_data.csv' file does not exist in the specified path.\")"
   ]
  },
  {
   "cell_type": "code",
   "execution_count": 8,
   "id": "b647d67f-f20e-4796-96bd-439517969fc8",
   "metadata": {
    "tags": []
   },
   "outputs": [],
   "source": [
    "# Initialize variables to store financial data\n",
    "months = []\n",
    "profits_losses = []"
   ]
  },
  {
   "cell_type": "code",
   "execution_count": 9,
   "id": "afe8b757-40b3-41bf-94ec-7522c0e79044",
   "metadata": {
    "tags": []
   },
   "outputs": [
    {
     "name": "stdout",
     "output_type": "stream",
     "text": [
      "Financial Analysis\n",
      "----------------------------\n",
      "Total Months: 86\n",
      "Total: $38382578\n",
      "Average Change: $-2315.12\n",
      "Greatest Increase in Profits: Feb-2012 ($1926159)\n",
      "Greatest Decrease in Losses: Sep-2013 ($-2196167)\n"
     ]
    }
   ],
   "source": [
    "# Read the CSV file\n",
    "with open(budget_data, newline=\"\") as csvfile:\n",
    "    csvreader = csv.reader(csvfile, delimiter=\",\")\n",
    "    next(csvreader)  # Skip the header row\n",
    "    for row in csvreader:\n",
    "        months.append(row[0])\n",
    "        profits_losses.append(int(row[1]))\n",
    "\n",
    "# Calculate the total number of months\n",
    "total_months = len(months)\n",
    "\n",
    "# Calculate the net total amount of Profit/Losses\n",
    "net_total = sum(profits_losses)\n",
    "\n",
    "# Calculate the average of the changes in Profit/Losses\n",
    "changes = [profits_losses[i] - profits_losses[i - 1] for i in range(1, total_months)]\n",
    "average_change = sum(changes) / (total_months - 1)\n",
    "\n",
    "# Find the greatest increase in profits and the greatest decrease in losses\n",
    "greatest_increase = max(changes)\n",
    "greatest_increase_month = months[changes.index(greatest_increase) + 1]\n",
    "greatest_decrease = min(changes)\n",
    "greatest_decrease_month = months[changes.index(greatest_decrease) + 1]\n",
    "\n",
    "# Print the results\n",
    "print(\"Financial Analysis\")\n",
    "print(\"----------------------------\")\n",
    "print(f\"Total Months: {total_months}\")\n",
    "print(f\"Total: ${net_total}\")\n",
    "print(f\"Average Change: ${average_change:.2f}\")\n",
    "print(f\"Greatest Increase in Profits: {greatest_increase_month} (${greatest_increase})\")\n",
    "print(f\"Greatest Decrease in Losses: {greatest_decrease_month} (${greatest_decrease})\")"
   ]
  },
  {
   "cell_type": "code",
   "execution_count": 10,
   "id": "eff62d80-a7fc-464a-8da4-614060d61fa9",
   "metadata": {
    "tags": []
   },
   "outputs": [],
   "source": [
    "# Save the results to a text file\n",
    "with open(\"financial_analysis.txt\", \"w\") as txtfile:\n",
    "    txtfile.write(\"Financial Analysis\\n\")\n",
    "    txtfile.write(\"----------------------------\\n\")\n",
    "    txtfile.write(f\"Total Months: {total_months}\\n\")\n",
    "    txtfile.write(f\"Total: ${net_total}\\n\")\n",
    "    txtfile.write(f\"Average Change: ${average_change:.2f}\\n\")\n",
    "    txtfile.write(f\"Greatest Increase in Profits: {greatest_increase_month} (${greatest_increase})\\n\")\n",
    "    txtfile.write(f\"Greatest Decrease in Losses: {greatest_decrease_month} (${greatest_decrease})\\n\")"
   ]
  },
  {
   "cell_type": "code",
   "execution_count": null,
   "id": "580a3ae2-72f0-4267-94f8-de09baf58ac3",
   "metadata": {},
   "outputs": [],
   "source": []
  }
 ],
 "metadata": {
  "kernelspec": {
   "display_name": "Python 3 (ipykernel)",
   "language": "python",
   "name": "python3"
  },
  "language_info": {
   "codemirror_mode": {
    "name": "ipython",
    "version": 3
   },
   "file_extension": ".py",
   "mimetype": "text/x-python",
   "name": "python",
   "nbconvert_exporter": "python",
   "pygments_lexer": "ipython3",
   "version": "3.10.12"
  }
 },
 "nbformat": 4,
 "nbformat_minor": 5
}
